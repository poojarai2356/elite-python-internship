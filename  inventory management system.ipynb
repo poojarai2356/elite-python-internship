{
 "cells": [
  {
   "cell_type": "code",
   "execution_count": 2,
   "id": "3c506862",
   "metadata": {},
   "outputs": [],
   "source": [
    "phone_record={\"1230a\":{\"product_name\":\"realme C11 2021\" ,\n",
    "                 \"feature\":{\n",
    "              \"Memory\":\"2 GB RAM | 32 GB ROM | Expandable Upto 256 GB\",\n",
    "              \"display\": \"16.51 cm (6.5 inch)\",\n",
    "              \"camera\":\"8MP Rear Camera | 5MP Front Camera\",\n",
    "              \"battery\":\"5000 mAh Battery \",\n",
    "              \"processor\":\"Octa-core Processor\"},\n",
    "              \"price\":6999},\n",
    "       \"1231b\":{\"product_name\":\"POCO M3\" ,\n",
    "            \"feature\":{\n",
    "              \"Memory\":\"4 GB RAM | 64 GB ROM | Expandable Upto 512 GB\",\n",
    "              \"display\": \"16.59 cm (6.53 inch) Full HD\",\n",
    "              \"camera\":\"48MP + 2MP + 2MP | 8MP Front Camera\",\n",
    "              \"battery\":\"6000 mAh Lithium-ion Polymer Battery \",\n",
    "              \"processor\":\"Qualcomm Snapdragon 662 Processor\"},\n",
    "               \"price\":10999},\n",
    "       \"1232c\":{\"product_name\":\"infinix Hot 10S\" ,\n",
    "                \"feature\":{\n",
    "              \"Memory\":\"4 GB RAM | 64 GB ROM | Expandable Upto 256 GB\",\n",
    "              \"display\":\"17.32 cm (6.82 inch) HD+ Display\",\n",
    "              \"camera\":\"48MP + 2MP + AI Lens Camera | 8MP Front Camera\",\n",
    "              \"battery\":\"6000 mAh Li-ion Polymer Battery \",\n",
    "              \"processor\":\"MediaTek Helio G85 Processor\"},\n",
    "               \"price\":9499}\n",
    "       }\n",
    " "
   ]
  },
  {
   "cell_type": "code",
   "execution_count": 8,
   "id": "1d97b707",
   "metadata": {},
   "outputs": [],
   "source": [
    "import json\n",
    "js=json.dumps(phone_record)\n"
   ]
  },
  {
   "cell_type": "code",
   "execution_count": 10,
   "id": "d21560e8",
   "metadata": {},
   "outputs": [],
   "source": [
    "fd=open(\"phone_record.json\",\"w\")\n",
    "fd.write(js)\n",
    "fd.close()"
   ]
  },
  {
   "cell_type": "code",
   "execution_count": 11,
   "id": "c340ee8d",
   "metadata": {},
   "outputs": [],
   "source": [
    "fd=open(\"phone_record.json\",\"r\")\n",
    "fd.read()\n",
    "fd.close()"
   ]
  },
  {
   "cell_type": "code",
   "execution_count": 3,
   "id": "d70e1c77",
   "metadata": {},
   "outputs": [
    {
     "name": "stdout",
     "output_type": "stream",
     "text": [
      "product id: 1230a\n",
      "realme C11 2021\n",
      "6999\n",
      "2 GB RAM | 32 GB ROM | Expandable Upto 256 GB\n",
      "16.51 cm (6.5 inch)\n",
      "8MP Rear Camera | 5MP Front Camera\n",
      "5000 mAh Battery \n",
      "Octa-core Processor\n",
      "\n",
      "\n",
      "product id: 1231b\n",
      "POCO M3\n",
      "10999\n",
      "4 GB RAM | 64 GB ROM | Expandable Upto 512 GB\n",
      "16.59 cm (6.53 inch) Full HD\n",
      "48MP + 2MP + 2MP | 8MP Front Camera\n",
      "6000 mAh Lithium-ion Polymer Battery \n",
      "Qualcomm Snapdragon 662 Processor\n",
      "\n",
      "\n",
      "product id: 1232c\n",
      "infinix Hot 10S\n",
      "9499\n",
      "4 GB RAM | 64 GB ROM | Expandable Upto 256 GB\n",
      "17.32 cm (6.82 inch) HD+ Display\n",
      "48MP + 2MP + AI Lens Camera | 8MP Front Camera\n",
      "6000 mAh Li-ion Polymer Battery \n",
      "MediaTek Helio G85 Processor\n",
      "\n",
      "\n"
     ]
    }
   ],
   "source": [
    "# for record preview\n",
    "for id in phone_record.keys():\n",
    "    print(\"product id:\",id)\n",
    "    print(phone_record[id][\"product_name\"])\n",
    "    print(phone_record[id][\"price\"])\n",
    "    for f in phone_record[id][\"feature\"]:\n",
    "        print(phone_record[id][\"feature\"][f])\n",
    "    print(\"\\n\")\n",
    " "
   ]
  },
  {
   "cell_type": "code",
   "execution_count": 5,
   "id": "7dec1e52",
   "metadata": {},
   "outputs": [
    {
     "name": "stdout",
     "output_type": "stream",
     "text": [
      "enter the quantities of phone model that you selected1\n",
      "enter1product-id:1232c\n",
      "enter quantity3\n",
      "total amount: 28497\n"
     ]
    }
   ],
   "source": [
    "# for adding product to card\n",
    "n=int(input(\"enter the quantities of phone model that you selected\"))\n",
    "total_bill=0\n",
    "for i in range(1,n+1):\n",
    "    id=input(\"enter\"+str(i)+\"product-id:\")\n",
    "    q=int(input(\"enter quantity\"))\n",
    "    total_bill+=q*phone_record[id][\"price\"]\n",
    "print(\"total amount:\",total_bill)\n",
    " \n",
    "    "
   ]
  },
  {
   "cell_type": "raw",
   "id": "b091a229",
   "metadata": {},
   "source": [
    "realme C11 2021 \n",
    "2 GB RAM | 32 GB ROM | Expandable Upto 256 GB\n",
    "16.51 cm (6.5 inch) HD+ Display\n",
    "8MP Rear Camera | 5MP Front Camera\n",
    "5000 mAh Battery\n",
    "Octa-core Processor\n",
    "\n",
    "POCO M3\n",
    "4 GB RAM | 64 GB ROM | Expandable Upto 512 GB\n",
    "16.59 cm (6.53 inch) Full HD+ Display\n",
    "48MP + 2MP + 2MP | 8MP Front Camera\n",
    "6000 mAh Lithium-ion Polymer Battery\n",
    "Qualcomm Snapdragon 662 Processor\n",
    "\n",
    "infinix Hot 10S\n",
    "4 GB RAM | 64 GB ROM | Expandable Upto 256 GB\n",
    "17.32 cm (6.82 inch) HD+ Display\n",
    "48MP + 2MP + AI Lens Camera | 8MP Front Camera\n",
    "6000 mAh Li-ion Polymer Battery\n",
    "MediaTek Helio G85 Processor\n",
    "90Hz Refresh Rate"
   ]
  }
 ],
 "metadata": {
  "kernelspec": {
   "display_name": "Python 3",
   "language": "python",
   "name": "python3"
  },
  "language_info": {
   "codemirror_mode": {
    "name": "ipython",
    "version": 3
   },
   "file_extension": ".py",
   "mimetype": "text/x-python",
   "name": "python",
   "nbconvert_exporter": "python",
   "pygments_lexer": "ipython3",
   "version": "3.8.8"
  }
 },
 "nbformat": 4,
 "nbformat_minor": 5
}
