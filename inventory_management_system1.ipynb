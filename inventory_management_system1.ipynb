{
  "nbformat": 4,
  "nbformat_minor": 0,
  "metadata": {
    "colab": {
      "name": "inventory management system1.ipynb",
      "provenance": [],
      "collapsed_sections": [],
      "toc_visible": true,
      "authorship_tag": "ABX9TyPbBPMSgGOgqzBXVwQzApLG",
      "include_colab_link": true
    },
    "kernelspec": {
      "display_name": "Python 3",
      "name": "python3"
    },
    "language_info": {
      "name": "python"
    }
  },
  "cells": [
    {
      "cell_type": "markdown",
      "metadata": {
        "id": "view-in-github",
        "colab_type": "text"
      },
      "source": [
        "<a href=\"https://colab.research.google.com/github/poojarai2356/elite-python-internship/blob/main/inventory_management_system1.ipynb\" target=\"_parent\"><img src=\"https://colab.research.google.com/assets/colab-badge.svg\" alt=\"Open In Colab\"/></a>"
      ]
    },
    {
      "cell_type": "code",
      "metadata": {
        "id": "M9kjB65O_PQA"
      },
      "source": [
        "phone_record={\"1230a\":{\"product_name\":\"realme C11 2021\" ,\n",
        "                 \"feature\":{\n",
        "              \"Memory\":\"2 GB RAM | 32 GB ROM | Expandable Upto 256 GB\",\n",
        "              \"display\": \"16.51 cm (6.5 inch)\",\n",
        "              \"camera\":\"8MP Rear Camera | 5MP Front Camera\",\n",
        "              \"battery\":\"5000 mAh Battery \",\n",
        "              \"processor\":\"Octa-core Processor\"},\n",
        "              \"price\":6999},\n",
        "       \"1231b\":{\"product_name\":\"POCO M3\" ,\n",
        "            \"feature\":{\n",
        "              \"Memory\":\"4 GB RAM | 64 GB ROM | Expandable Upto 512 GB\",\n",
        "              \"display\": \"16.59 cm (6.53 inch) Full HD\",\n",
        "              \"camera\":\"48MP + 2MP + 2MP | 8MP Front Camera\",\n",
        "              \"battery\":\"6000 mAh Lithium-ion Polymer Battery \",\n",
        "              \"processor\":\"Qualcomm Snapdragon 662 Processor\"},\n",
        "               \"price\":10999},\n",
        "       \"1232c\":{\"product_name\":\"infinix Hot 10S\" ,\n",
        "                \"feature\":{\n",
        "              \"Memory\":\"4 GB RAM | 64 GB ROM | Expandable Upto 256 GB\",\n",
        "              \"display\":\"17.32 cm (6.82 inch) HD+ Display\",\n",
        "              \"camera\":\"48MP + 2MP + AI Lens Camera | 8MP Front Camera\",\n",
        "              \"battery\":\"6000 mAh Li-ion Polymer Battery \",\n",
        "              \"processor\":\"MediaTek Helio G85 Processor\"},\n",
        "               \"price\":9499}\n",
        "       }\n",
        " "
      ],
      "execution_count": 35,
      "outputs": []
    },
    {
      "cell_type": "code",
      "metadata": {
        "id": "3nqgsh1YrHdB",
        "colab": {
          "base_uri": "https://localhost:8080/"
        },
        "outputId": "04f629f3-b1ad-41ae-facd-c3e86bd9843a"
      },
      "source": [
        "import json\n",
        "js= json.dumps(phone_record)\n",
        "fd = open(\"inventory management system.json\",\"a\")\n",
        "fd.write(js)\n",
        "fd.close()\n",
        "print(\"value is upadated successfully !!!\")"
      ],
      "execution_count": 36,
      "outputs": [
        {
          "output_type": "stream",
          "name": "stdout",
          "text": [
            "value is upadated successfully !!!\n"
          ]
        }
      ]
    },
    {
      "cell_type": "code",
      "metadata": {
        "id": "0oTcutKO_gFB"
      },
      "source": [
        "# for record preview\n",
        "def item_list():  \n",
        " for id in phone_record.keys():\n",
        "    print(\"product id:\",id)\n",
        "    print(phone_record[id][\"product_name\"])\n",
        "    print(phone_record[id][\"price\"])\n",
        "\n",
        "    for f in phone_record[id][\"feature\"]:\n",
        "        print(phone_record[id][\"feature\"][f])\n",
        "    print(\"\\n\")"
      ],
      "execution_count": 37,
      "outputs": []
    },
    {
      "cell_type": "code",
      "metadata": {
        "id": "D2xse6yx_kue"
      },
      "source": [
        "# for adding product to card\n",
        "def cart():\n",
        "  n=int(input(\"enter the quantities of phone model that you selected: \"))\n",
        "  total_bill=0\n",
        "  q=0\n",
        "  for i in range(1,n+1):\n",
        "    id=input(\"enter\"+str(i)+\"product-id:\")\n",
        "    \n",
        "    if id not in phone_record:     # check id is correct or not\n",
        "        print(\"enter id is not correct\")\n",
        "        id=input(\"re-enter\"+str(i)+\"product-id:\")\n",
        "    \n",
        "    q=q+int(input(\"Enter Quantity (must be a whole no): \"))    \n",
        "    print(\"\\n\")\n",
        "    \n",
        "    total_bill+=q*phone_record[id][\"price\"]   # calculate the total amount\n",
        "  print(\"total number of selected product: \",q)   \n",
        "  print(\" total amount : Rs.\",total_bill) \n"
      ],
      "execution_count": 38,
      "outputs": []
    },
    {
      "cell_type": "code",
      "metadata": {
        "id": "Yk38Zv_U_pcZ"
      },
      "source": [
        "# funtion to search particular product by using certain product id\n",
        "def  search():\n",
        " id_to_search=input(\"enter the id of the product for searching its datails \")\n",
        " if id_to_search in phone_record:\n",
        "    print(\"product id:\",id_to_search)\n",
        "    print(phone_record[id_to_search][\"product_name\"])\n",
        "    print(phone_record[id_to_search][\"price\"])\n",
        "    for f in phone_record[id_to_search][\"feature\"]:\n",
        "        print(phone_record[id_to_search][\"feature\"][f])\n",
        "    print(\"\\n\")\n",
        " else:\n",
        "    print(\"oops' this product is not in list\")"
      ],
      "execution_count": 39,
      "outputs": []
    },
    {
      "cell_type": "code",
      "metadata": {
        "id": "T9VUJeKU_8Zu"
      },
      "source": [
        "# function to manipulate values\n",
        "def modification():\n",
        "  id_to_manipulate=input(\"enter the id of the product for manipulating its datails\")\n",
        "  if id_to_manipulate in phone_record:\n",
        "    print(\"product id\",id_to_manipulate)\n",
        "    phone_record[id_to_manipulate][\"product_name\"]= input(\"enter product name: \")\n",
        "    phone_record[id_to_manipulate][\"product_name\"]=int(input(\"enter product price (it should be whole no) Rs:\"))\n",
        "    for i in phone_record[id_to_manipulate][\"feature\"].keys():\n",
        "       phone_record[id_to_manipulate][\"feature\"][i]=input(\"enter \"+str(i)+\" \")\n",
        "    print(\"\\n\")\n",
        "  else:\n",
        "    print(\"invalid id\")\n",
        "   \n",
        "\n",
        "  js=json.dumps(phone_record)\n",
        "  fd = open(\"inventory management system.json\",\"a\")\n",
        "  fd.close()\n",
        "  print(\"value is upadated successfully !!!\")\n",
        "     "
      ],
      "execution_count": 40,
      "outputs": []
    },
    {
      "cell_type": "code",
      "metadata": {
        "id": "ivl2yTTyALkC"
      },
      "source": [
        " # program to insert product in shop\n",
        " def insert():\n",
        "  n=int(input(\"How many product you wants to add: \"))\n",
        "  for i in range(1,n+1):\n",
        "    product_id=input(\"enter the product id: \")\n",
        "    phone_record[product_id]={\"product_name\": input(\"enter product name: \") ,\n",
        "            \"feature\":{\n",
        "              \"Memory\":input(\"enter momory: \"),\n",
        "              \"display\":input(\"display: \"),\n",
        "              \"camera\": input(\"camera: \"),\n",
        "              \"battery\": input(\"battery: \"),\n",
        "              \"processor\":input(\"processor: \")},\n",
        "               \"price\":int(input(\"price (it should be no): \"))}\n",
        "    print(\"\\n\")\n",
        "    js=json.dumps(phone_record)\n",
        "    fd = open(\"inventory management system.json\",\"a\")\n",
        "    fd.close()"
      ],
      "execution_count": 41,
      "outputs": []
    },
    {
      "cell_type": "code",
      "metadata": {
        "id": "USh9OwkAe6pQ"
      },
      "source": [
        "# function to delete product from shope\n",
        "def delete():\n",
        "  id=input('enter the id of product wants to remove from list: ')\n",
        "  if id in phone_record.keys():\n",
        "     phone_record.pop(id)\n",
        "     print(\" selected item is removed successfully !!\")\n",
        "     js=json.dumps(phone_record)\n",
        "     fd = open(\"inventory management system.json\",\"a\")\n",
        "     fd.close()\n",
        "  else:\n",
        "    print(\"invalid id \")"
      ],
      "execution_count": 42,
      "outputs": []
    },
    {
      "cell_type": "code",
      "metadata": {
        "colab": {
          "base_uri": "https://localhost:8080/"
        },
        "id": "f0vNrtRFmRcg",
        "outputId": "0585bcbc-7ada-46fc-9b0d-5eda9cdcb356"
      },
      "source": [
        "a=1\n",
        "while(a):\n",
        "    print(\"1. view items list\")\n",
        "    print(\"2. add items to cart\")\n",
        "    print(\"3. search\")\n",
        "    print(\"4. modification\")\n",
        "    print(\"5. add item to store\")\n",
        "    print(\"6. delete item from store\")\n",
        "    print(\"7. exit\")\n",
        "    n=int(input(\"choose an option from menu: \"))\n",
        "    if(n==1):\n",
        "        item_list()\n",
        "    elif(n==2):\n",
        "        cart()\n",
        "    elif(n==3):\n",
        "        search()\n",
        "    elif(n==4):\n",
        "        modification()\n",
        "    elif(n==5):\n",
        "         insert()\n",
        "    elif(n==6):\n",
        "        delete()\n",
        "    elif(n==7):\n",
        "        print(\"you are exit....\")\n",
        "        a=0\n",
        "    else:\n",
        "        print(\"choose the correct option\")\n",
        "    print(\"\\n\")"
      ],
      "execution_count": 51,
      "outputs": [
        {
          "output_type": "stream",
          "name": "stdout",
          "text": [
            "1. view items list\n",
            "2. add items to cart\n",
            "3. search\n",
            "4. modification\n",
            "5. add item to store\n",
            "6. delete item from store\n",
            "7. exit\n",
            "choose an option from menu: 7\n",
            "you are exit....\n",
            "\n",
            "\n"
          ]
        }
      ]
    }
  ]
}