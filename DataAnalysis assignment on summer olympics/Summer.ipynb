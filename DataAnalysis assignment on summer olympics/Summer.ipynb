{
 "cells": [
  {
   "cell_type": "markdown",
   "metadata": {},
   "source": [
    "# Summer Olympics Data Analysis Assignment"
   ]
  },
  {
   "cell_type": "code",
   "execution_count": 1,
   "metadata": {},
   "outputs": [],
   "source": [
    "import numpy as np\n",
    "import pandas as pd\n",
    "import matplotlib.pyplot as plt"
   ]
  },
  {
   "cell_type": "code",
   "execution_count": 2,
   "metadata": {},
   "outputs": [
    {
     "data": {
      "text/html": [
       "<div>\n",
       "<style scoped>\n",
       "    .dataframe tbody tr th:only-of-type {\n",
       "        vertical-align: middle;\n",
       "    }\n",
       "\n",
       "    .dataframe tbody tr th {\n",
       "        vertical-align: top;\n",
       "    }\n",
       "\n",
       "    .dataframe thead th {\n",
       "        text-align: right;\n",
       "    }\n",
       "</style>\n",
       "<table border=\"1\" class=\"dataframe\">\n",
       "  <thead>\n",
       "    <tr style=\"text-align: right;\">\n",
       "      <th></th>\n",
       "      <th>Year</th>\n",
       "      <th>City</th>\n",
       "      <th>Sport</th>\n",
       "      <th>Discipline</th>\n",
       "      <th>Athlete</th>\n",
       "      <th>Country</th>\n",
       "      <th>Gender</th>\n",
       "      <th>Event</th>\n",
       "      <th>Medal</th>\n",
       "    </tr>\n",
       "  </thead>\n",
       "  <tbody>\n",
       "    <tr>\n",
       "      <th>0</th>\n",
       "      <td>1896</td>\n",
       "      <td>Athens</td>\n",
       "      <td>Aquatics</td>\n",
       "      <td>Swimming</td>\n",
       "      <td>HAJOS, Alfred</td>\n",
       "      <td>HUN</td>\n",
       "      <td>Men</td>\n",
       "      <td>100M Freestyle</td>\n",
       "      <td>Gold</td>\n",
       "    </tr>\n",
       "    <tr>\n",
       "      <th>1</th>\n",
       "      <td>1896</td>\n",
       "      <td>Athens</td>\n",
       "      <td>Aquatics</td>\n",
       "      <td>Swimming</td>\n",
       "      <td>HERSCHMANN, Otto</td>\n",
       "      <td>AUT</td>\n",
       "      <td>Men</td>\n",
       "      <td>100M Freestyle</td>\n",
       "      <td>Silver</td>\n",
       "    </tr>\n",
       "    <tr>\n",
       "      <th>2</th>\n",
       "      <td>1896</td>\n",
       "      <td>Athens</td>\n",
       "      <td>Aquatics</td>\n",
       "      <td>Swimming</td>\n",
       "      <td>DRIVAS, Dimitrios</td>\n",
       "      <td>GRE</td>\n",
       "      <td>Men</td>\n",
       "      <td>100M Freestyle For Sailors</td>\n",
       "      <td>Bronze</td>\n",
       "    </tr>\n",
       "    <tr>\n",
       "      <th>3</th>\n",
       "      <td>1896</td>\n",
       "      <td>Athens</td>\n",
       "      <td>Aquatics</td>\n",
       "      <td>Swimming</td>\n",
       "      <td>MALOKINIS, Ioannis</td>\n",
       "      <td>GRE</td>\n",
       "      <td>Men</td>\n",
       "      <td>100M Freestyle For Sailors</td>\n",
       "      <td>Gold</td>\n",
       "    </tr>\n",
       "    <tr>\n",
       "      <th>4</th>\n",
       "      <td>1896</td>\n",
       "      <td>Athens</td>\n",
       "      <td>Aquatics</td>\n",
       "      <td>Swimming</td>\n",
       "      <td>CHASAPIS, Spiridon</td>\n",
       "      <td>GRE</td>\n",
       "      <td>Men</td>\n",
       "      <td>100M Freestyle For Sailors</td>\n",
       "      <td>Silver</td>\n",
       "    </tr>\n",
       "  </tbody>\n",
       "</table>\n",
       "</div>"
      ],
      "text/plain": [
       "   Year    City     Sport Discipline             Athlete Country Gender  \\\n",
       "0  1896  Athens  Aquatics   Swimming       HAJOS, Alfred     HUN    Men   \n",
       "1  1896  Athens  Aquatics   Swimming    HERSCHMANN, Otto     AUT    Men   \n",
       "2  1896  Athens  Aquatics   Swimming   DRIVAS, Dimitrios     GRE    Men   \n",
       "3  1896  Athens  Aquatics   Swimming  MALOKINIS, Ioannis     GRE    Men   \n",
       "4  1896  Athens  Aquatics   Swimming  CHASAPIS, Spiridon     GRE    Men   \n",
       "\n",
       "                        Event   Medal  \n",
       "0              100M Freestyle    Gold  \n",
       "1              100M Freestyle  Silver  \n",
       "2  100M Freestyle For Sailors  Bronze  \n",
       "3  100M Freestyle For Sailors    Gold  \n",
       "4  100M Freestyle For Sailors  Silver  "
      ]
     },
     "execution_count": 2,
     "metadata": {},
     "output_type": "execute_result"
    }
   ],
   "source": [
    "df= pd.read_csv(\"summer.csv\")\n",
    "df.head()\n",
    " "
   ]
  },
  {
   "cell_type": "code",
   "execution_count": 3,
   "metadata": {},
   "outputs": [
    {
     "data": {
      "text/plain": [
       "array(['HUN', 'AUT', 'GRE', 'USA', 'GER', 'GBR', 'FRA', 'AUS', 'DEN',\n",
       "       'SUI', 'ZZX', 'NED', 'BEL', 'IND', 'CAN', 'BOH', 'SWE', 'NOR',\n",
       "       'ESP', 'ITA', 'CUB', 'ANZ', 'RSA', 'FIN', 'RU1', 'EST', 'TCH',\n",
       "       'NZL', 'BRA', 'JPN', 'LUX', 'ARG', 'POL', 'POR', 'URU', 'YUG',\n",
       "       'ROU', 'HAI', 'EGY', 'PHI', 'IRL', 'CHI', 'LAT', 'MEX', 'TUR',\n",
       "       'PAN', 'JAM', 'SRI', 'KOR', 'PUR', 'PER', 'IRI', 'TRI', 'URS',\n",
       "       'VEN', 'BUL', 'LIB', 'EUA', 'ISL', 'PAK', 'BAH', 'BWI', 'TPE',\n",
       "       'ETH', 'MAR', 'GHA', 'IRQ', 'SIN', 'TUN', 'KEN', 'NGR', 'GDR',\n",
       "       'FRG', 'UGA', 'CMR', 'MGL', 'PRK', 'COL', 'NIG', 'THA', 'BER',\n",
       "       'TAN', 'GUY', 'ZIM', 'CHN', 'CIV', 'ZAM', 'DOM', 'ALG', 'SYR',\n",
       "       'SUR', 'CRC', 'INA', 'SEN', 'DJI', 'AHO', 'ISV', 'EUN', 'NAM',\n",
       "       'QAT', 'LTU', 'MAS', 'CRO', 'ISR', 'SLO', 'IOP', 'RUS', 'UKR',\n",
       "       'ECU', 'BDI', 'MOZ', 'CZE', 'BLR', 'TGA', 'KAZ', 'UZB', 'SVK',\n",
       "       'MDA', 'GEO', 'HKG', 'ARM', 'AZE', 'BAR', 'KSA', 'KGZ', 'KUW',\n",
       "       'VIE', 'MKD', 'SCG', 'ERI', 'PAR', 'UAE', 'SRB', 'SUD', 'MRI',\n",
       "       'TOG', 'TJK', 'AFG', nan, 'BRN', 'GUA', 'GRN', 'TTO', 'BOT', 'MNE',\n",
       "       'CYP', 'SGP', 'GAB'], dtype=object)"
      ]
     },
     "execution_count": 3,
     "metadata": {},
     "output_type": "execute_result"
    }
   ],
   "source": [
    "df[\"Country\"].unique()"
   ]
  },
  {
   "cell_type": "code",
   "execution_count": 4,
   "metadata": {},
   "outputs": [
    {
     "data": {
      "text/plain": [
       "[['HUN', 1079],\n",
       " ['AUT', 146],\n",
       " ['GRE', 148],\n",
       " ['USA', 4585],\n",
       " ['GER', 1305],\n",
       " ['GBR', 1720],\n",
       " ['FRA', 1396],\n",
       " ['AUS', 1189],\n",
       " ['DEN', 507],\n",
       " ['SUI', 380],\n",
       " ['ZZX', 48],\n",
       " ['NED', 851],\n",
       " ['BEL', 411],\n",
       " ['IND', 184],\n",
       " ['CAN', 649],\n",
       " ['BOH', 7],\n",
       " ['SWE', 1044],\n",
       " ['NOR', 554],\n",
       " ['ESP', 442],\n",
       " ['ITA', 1296],\n",
       " ['CUB', 410],\n",
       " ['ANZ', 29],\n",
       " ['RSA', 106],\n",
       " ['FIN', 456],\n",
       " ['RU1', 17],\n",
       " ['EST', 39],\n",
       " ['TCH', 329],\n",
       " ['NZL', 190],\n",
       " ['BRA', 431],\n",
       " ['JPN', 788],\n",
       " ['LUX', 2],\n",
       " ['ARG', 259],\n",
       " ['POL', 511],\n",
       " ['POR', 33],\n",
       " ['URU', 76],\n",
       " ['YUG', 435],\n",
       " ['ROU', 640],\n",
       " ['HAI', 8],\n",
       " ['EGY', 28],\n",
       " ['PHI', 9],\n",
       " ['IRL', 30],\n",
       " ['CHI', 33],\n",
       " ['LAT', 20],\n",
       " ['MEX', 106],\n",
       " ['TUR', 86],\n",
       " ['PAN', 3],\n",
       " ['JAM', 127],\n",
       " ['SRI', 2],\n",
       " ['KOR', 529],\n",
       " ['PUR', 8],\n",
       " ['PER', 15],\n",
       " ['IRI', 61],\n",
       " ['TRI', 20],\n",
       " ['URS', 2049],\n",
       " ['VEN', 12],\n",
       " ['BUL', 333],\n",
       " ['LIB', 4],\n",
       " ['EUA', 260],\n",
       " ['ISL', 17],\n",
       " ['PAK', 121],\n",
       " ['BAH', 27],\n",
       " ['BWI', 5],\n",
       " ['TPE', 44],\n",
       " ['ETH', 45],\n",
       " ['MAR', 22],\n",
       " ['GHA', 16],\n",
       " ['IRQ', 1],\n",
       " ['SIN', 4],\n",
       " ['TUN', 10],\n",
       " ['KEN', 93],\n",
       " ['NGR', 84],\n",
       " ['GDR', 825],\n",
       " ['FRG', 490],\n",
       " ['UGA', 7],\n",
       " ['CMR', 23],\n",
       " ['MGL', 24],\n",
       " ['PRK', 58],\n",
       " ['COL', 19],\n",
       " ['NIG', 1],\n",
       " ['THA', 25],\n",
       " ['BER', 1],\n",
       " ['TAN', 2],\n",
       " ['GUY', 1],\n",
       " ['ZIM', 23],\n",
       " ['CHN', 807],\n",
       " ['CIV', 1],\n",
       " ['ZAM', 2],\n",
       " ['DOM', 6],\n",
       " ['ALG', 15],\n",
       " ['SYR', 3],\n",
       " ['SUR', 2],\n",
       " ['CRC', 4],\n",
       " ['INA', 38],\n",
       " ['SEN', 1],\n",
       " ['DJI', 1],\n",
       " ['AHO', 1],\n",
       " ['ISV', 1],\n",
       " ['EUN', 223],\n",
       " ['NAM', 4],\n",
       " ['QAT', 4],\n",
       " ['LTU', 55],\n",
       " ['MAS', 8],\n",
       " ['CRO', 114],\n",
       " ['ISR', 7],\n",
       " ['SLO', 26],\n",
       " ['IOP', 3],\n",
       " ['RUS', 768],\n",
       " ['UKR', 173],\n",
       " ['ECU', 2],\n",
       " ['BDI', 1],\n",
       " ['MOZ', 2],\n",
       " ['CZE', 56],\n",
       " ['BLR', 113],\n",
       " ['TGA', 1],\n",
       " ['KAZ', 49],\n",
       " ['UZB', 20],\n",
       " ['SVK', 34],\n",
       " ['MDA', 6],\n",
       " ['GEO', 25],\n",
       " ['HKG', 4],\n",
       " ['ARM', 11],\n",
       " ['AZE', 26],\n",
       " ['BAR', 1],\n",
       " ['KSA', 6],\n",
       " ['KGZ', 3],\n",
       " ['KUW', 2],\n",
       " ['VIE', 2],\n",
       " ['MKD', 1],\n",
       " ['SCG', 14],\n",
       " ['ERI', 1],\n",
       " ['PAR', 17],\n",
       " ['UAE', 1],\n",
       " ['SRB', 31],\n",
       " ['SUD', 1],\n",
       " ['MRI', 1],\n",
       " ['TOG', 1],\n",
       " ['TJK', 3],\n",
       " ['AFG', 2],\n",
       " [nan, 0],\n",
       " ['BRN', 1],\n",
       " ['GUA', 1],\n",
       " ['GRN', 1],\n",
       " ['TTO', 10],\n",
       " ['BOT', 1],\n",
       " ['MNE', 14],\n",
       " ['CYP', 1],\n",
       " ['SGP', 4],\n",
       " ['GAB', 1]]"
      ]
     },
     "execution_count": 4,
     "metadata": {},
     "output_type": "execute_result"
    }
   ],
   "source": [
    "data=[]\n",
    "for country in df[\"Country\"].unique():\n",
    "     data.append([country,len(df[df[\"Country\"]==country])])\n",
    "data"
   ]
  },
  {
   "cell_type": "markdown",
   "metadata": {},
   "source": [
    "### 1. In how many cities Summer Olympics is held so far?"
   ]
  },
  {
   "cell_type": "code",
   "execution_count": 5,
   "metadata": {},
   "outputs": [
    {
     "data": {
      "text/html": [
       "<div>\n",
       "<style scoped>\n",
       "    .dataframe tbody tr th:only-of-type {\n",
       "        vertical-align: middle;\n",
       "    }\n",
       "\n",
       "    .dataframe tbody tr th {\n",
       "        vertical-align: top;\n",
       "    }\n",
       "\n",
       "    .dataframe thead th {\n",
       "        text-align: right;\n",
       "    }\n",
       "</style>\n",
       "<table border=\"1\" class=\"dataframe\">\n",
       "  <thead>\n",
       "    <tr style=\"text-align: right;\">\n",
       "      <th></th>\n",
       "      <th>country</th>\n",
       "      <th>freq</th>\n",
       "    </tr>\n",
       "  </thead>\n",
       "  <tbody>\n",
       "    <tr>\n",
       "      <th>3</th>\n",
       "      <td>USA</td>\n",
       "      <td>4585</td>\n",
       "    </tr>\n",
       "    <tr>\n",
       "      <th>53</th>\n",
       "      <td>URS</td>\n",
       "      <td>2049</td>\n",
       "    </tr>\n",
       "    <tr>\n",
       "      <th>5</th>\n",
       "      <td>GBR</td>\n",
       "      <td>1720</td>\n",
       "    </tr>\n",
       "    <tr>\n",
       "      <th>6</th>\n",
       "      <td>FRA</td>\n",
       "      <td>1396</td>\n",
       "    </tr>\n",
       "    <tr>\n",
       "      <th>4</th>\n",
       "      <td>GER</td>\n",
       "      <td>1305</td>\n",
       "    </tr>\n",
       "    <tr>\n",
       "      <th>19</th>\n",
       "      <td>ITA</td>\n",
       "      <td>1296</td>\n",
       "    </tr>\n",
       "    <tr>\n",
       "      <th>7</th>\n",
       "      <td>AUS</td>\n",
       "      <td>1189</td>\n",
       "    </tr>\n",
       "    <tr>\n",
       "      <th>0</th>\n",
       "      <td>HUN</td>\n",
       "      <td>1079</td>\n",
       "    </tr>\n",
       "    <tr>\n",
       "      <th>16</th>\n",
       "      <td>SWE</td>\n",
       "      <td>1044</td>\n",
       "    </tr>\n",
       "    <tr>\n",
       "      <th>11</th>\n",
       "      <td>NED</td>\n",
       "      <td>851</td>\n",
       "    </tr>\n",
       "  </tbody>\n",
       "</table>\n",
       "</div>"
      ],
      "text/plain": [
       "   country  freq\n",
       "3      USA  4585\n",
       "53     URS  2049\n",
       "5      GBR  1720\n",
       "6      FRA  1396\n",
       "4      GER  1305\n",
       "19     ITA  1296\n",
       "7      AUS  1189\n",
       "0      HUN  1079\n",
       "16     SWE  1044\n",
       "11     NED   851"
      ]
     },
     "execution_count": 5,
     "metadata": {},
     "output_type": "execute_result"
    }
   ],
   "source": [
    "# print the cities having max no.of frequency of participation in olympics\n",
    "pd.DataFrame(data, columns=[\"country\",\"freq\"]).sort_values(by=\"freq\" , ascending=False).head(10)"
   ]
  },
  {
   "cell_type": "code",
   "execution_count": 23,
   "metadata": {},
   "outputs": [
    {
     "data": {
      "text/plain": [
       "22"
      ]
     },
     "execution_count": 23,
     "metadata": {},
     "output_type": "execute_result"
    }
   ],
   "source": [
    "len(df[\"City\"].unique())"
   ]
  },
  {
   "cell_type": "code",
   "execution_count": 6,
   "metadata": {},
   "outputs": [
    {
     "data": {
      "text/plain": [
       "<AxesSubplot:title={'center':'opympic held in country'}, xlabel='Country', ylabel='frequency'>"
      ]
     },
     "execution_count": 6,
     "metadata": {},
     "output_type": "execute_result"
    },
    {
     "data": {
      "image/png": "[encoded data removed]",
      "text/plain": [
       "<Figure size 432x288 with 1 Axes>"
      ]
     },
     "metadata": {
      "needs_background": "light"
     },
     "output_type": "display_data"
    }
   ],
   "source": [
    "pd.DataFrame(data, columns=[\"country\",\"freq\"]).sort_values(by=\"freq\" , ascending=False).head(10).plot(x=\"country\",xlabel=\"Country\",ylabel=\"frequency\",y=\"freq\", title=\"opympic held in country\",kind=\"bar\",color=\"pink\")"
   ]
  },
  {
   "cell_type": "markdown",
   "metadata": {},
   "source": [
    "### 2. Which sport is having most number of Gold Medals so far? (Top 5)"
   ]
  },
  {
   "cell_type": "code",
   "execution_count": 7,
   "metadata": {},
   "outputs": [
    {
     "data": {
      "text/plain": [
       "Gold      10486\n",
       "Bronze    10369\n",
       "Silver    10310\n",
       "Name: Medal, dtype: int64"
      ]
     },
     "execution_count": 7,
     "metadata": {},
     "output_type": "execute_result"
    }
   ],
   "source": [
    " df[\"Medal\"].value_counts()"
   ]
  },
  {
   "cell_type": "code",
   "execution_count": 8,
   "metadata": {},
   "outputs": [
    {
     "data": {
      "text/plain": [
       "<AxesSubplot:title={'center':'top five sports having maxi gold medal'}, xlabel=' Sports', ylabel='Gold Medal'>"
      ]
     },
     "execution_count": 8,
     "metadata": {},
     "output_type": "execute_result"
    },
    {
     "data": {
      "image/png": "[encoded data removed]",
      "text/plain": [
       "<Figure size 720x360 with 1 Axes>"
      ]
     },
     "metadata": {
      "needs_background": "light"
     },
     "output_type": "display_data"
    }
   ],
   "source": [
    "data=[]\n",
    "for  sport in df[\"Sport\"].unique():\n",
    "        data.append([ sport ,len(df[(df[\"Sport\"]== sport) & (df[\"Medal\"]==\"Gold\")])])\n",
    "data=pd.DataFrame(data , columns=[\" sport\" , \"gold medal\"]).sort_values(by=\"gold medal\" , ascending=False)\n",
    "data.head().plot(x=\" sport\" , y=\"gold medal\" ,xlabel=\" Sports\",ylabel=\"Gold Medal\", title=\"top five sports having maxi gold medal\", kind=\"bar\" , color=[\"orange\",\"green\",\"red\",\"blue\",\"pink\"],\n",
    "                figsize=(10,5))\n",
    "        \n",
    "        "
   ]
  },
  {
   "cell_type": "markdown",
   "metadata": {},
   "source": [
    "### 3. Which sport is having most number of medals so far? (Top 5)"
   ]
  },
  {
   "cell_type": "code",
   "execution_count": 9,
   "metadata": {},
   "outputs": [
    {
     "data": {
      "text/plain": [
       "<AxesSubplot:title={'center':'top five sports having maxi medal'}, xlabel='sports', ylabel='Medal'>"
      ]
     },
     "execution_count": 9,
     "metadata": {},
     "output_type": "execute_result"
    },
    {
     "data": {
      "image/png": "[encoded data removed]",
      "text/plain": [
       "<Figure size 720x360 with 1 Axes>"
      ]
     },
     "metadata": {
      "needs_background": "light"
     },
     "output_type": "display_data"
    }
   ],
   "source": [
    "data=[]\n",
    "new_df=df.dropna()\n",
    "\n",
    "for  sport in df[\"Sport\"].unique():\n",
    "        data.append([sport ,len(new_df[(new_df[\"Sport\"]== sport)])])\n",
    "\n",
    "data=pd.DataFrame(data , columns=[\"sport\" ,  \"medal\"]).sort_values(by=\"medal\" , ascending=False)\n",
    "data.head().plot(x=\"sport\" , y=\"medal\" ,xlabel=\"sports\",ylabel=\"Medal\", title=\"top five sports having maxi medal\", kind=\"bar\" , color=[\"orange\",\"green\",\"red\",\"blue\",\"pink\"],\n",
    "                figsize=(10,5)) \n"
   ]
  },
  {
   "cell_type": "markdown",
   "metadata": {},
   "source": [
    "### 4. Which player has won most number of medals? (Top 5)"
   ]
  },
  {
   "cell_type": "code",
   "execution_count": 10,
   "metadata": {},
   "outputs": [
    {
     "data": {
      "text/plain": [
       "<AxesSubplot:title={'center':'top five athletes having maxi no of medal'}, xlabel='Athlete', ylabel='Medal'>"
      ]
     },
     "execution_count": 10,
     "metadata": {},
     "output_type": "execute_result"
    },
    {
     "data": {
      "image/png": "[encoded data removed]",
      "text/plain": [
       "<Figure size 720x360 with 1 Axes>"
      ]
     },
     "metadata": {
      "needs_background": "light"
     },
     "output_type": "display_data"
    }
   ],
   "source": [
    "data=[]\n",
    "new_df=df.dropna()\n",
    "\n",
    "for  athlete in new_df[\"Athlete\"].unique():\n",
    "        data.append([athlete ,len(new_df[new_df[\"Athlete\"]== athlete])])\n",
    "\n",
    "data=pd.DataFrame(data , columns=[\"athlete\" , \"medal\"]).sort_values(by=\"medal\" , ascending=False)\n",
    "\n",
    "data.head().plot(x=\"athlete\" , y=\"medal\" ,xlabel=\"Athlete\",ylabel=\"Medal\", title=\"top five athletes having maxi no of medal\", kind=\"bar\" , color=[\"orange\",\"green\",\"red\",\"blue\",\"pink\"],\n",
    "                figsize=(10,5)) \n",
    "        \n",
    "        "
   ]
  },
  {
   "cell_type": "markdown",
   "metadata": {},
   "source": [
    "### 5. Which player has won most number Gold Medals of medals? (Top 5)"
   ]
  },
  {
   "cell_type": "code",
   "execution_count": 11,
   "metadata": {},
   "outputs": [
    {
     "data": {
      "text/plain": [
       "<AxesSubplot:title={'center':'top five  athlete having maxi gold medal'}, xlabel='Athlete', ylabel='Gold Medal'>"
      ]
     },
     "execution_count": 11,
     "metadata": {},
     "output_type": "execute_result"
    },
    {
     "data": {
      "image/png": "[encoded data removed]",
      "text/plain": [
       "<Figure size 720x360 with 1 Axes>"
      ]
     },
     "metadata": {
      "needs_background": "light"
     },
     "output_type": "display_data"
    }
   ],
   "source": [
    "data=[]\n",
    "for  athlete in df[\"Athlete\"].unique():\n",
    "        data.append([ athlete ,len(df[(df[\"Athlete\"]== athlete) & (df[\"Medal\"]==\"Gold\")])])\n",
    "data=pd.DataFrame(data , columns=[\"Athlete\" , \"gold medal\"]).sort_values(by=\"gold medal\" , ascending=False)\n",
    "data.head().plot(x=\"Athlete\" , y=\"gold medal\" ,xlabel=\"Athlete\",ylabel=\"Gold Medal\", title=\"top five  athlete having maxi gold medal\", kind=\"bar\" , color=[\"orange\",\"green\",\"red\",\"blue\",\"pink\"],\n",
    "                figsize=(10,5))\n",
    "        "
   ]
  },
  {
   "cell_type": "markdown",
   "metadata": {},
   "source": [
    "### 6. In which year India won first Gold Medal in Summer Olympics?"
   ]
  },
  {
   "cell_type": "code",
   "execution_count": 12,
   "metadata": {},
   "outputs": [
    {
     "data": {
      "text/plain": [
       "<AxesSubplot:title={'center':'India get gold medal in year'}, xlabel=' Year', ylabel='Gold Medal'>"
      ]
     },
     "execution_count": 12,
     "metadata": {},
     "output_type": "execute_result"
    },
    {
     "data": {
      "image/png": "[encoded data removed]",
      "text/plain": [
       "<Figure size 720x360 with 1 Axes>"
      ]
     },
     "metadata": {
      "needs_background": "light"
     },
     "output_type": "display_data"
    }
   ],
   "source": [
    "data=[]\n",
    "new_df=df.dropna()\n",
    "for  year in new_df[\"Year\"].unique():\n",
    "    data.append( [year, len(new_df[(new_df[\"Year\"]==year)&(new_df[\"Country\"]==\"IND\") & (new_df[\"Medal\"]==\"Gold\")])])\n",
    "data=pd.DataFrame(data, columns=[\"Year\", \"Gold medal\"]).sort_values(by=\"Year\")\n",
    "data.plot(x=\"Year\" , y=\"Gold medal\" ,xlabel=\" Year\",ylabel=\"Gold Medal\", title=\"India get gold medal in year\", kind=\"bar\" , color=[\"orange\",\"green\",\"red\",\"blue\",\"pink\"],\n",
    "                figsize=(10,5))\n",
    " \n"
   ]
  },
  {
   "cell_type": "markdown",
   "metadata": {},
   "source": [
    "### 7. Which event is most popular in terms on number of players? (Top 5)"
   ]
  },
  {
   "cell_type": "code",
   "execution_count": 13,
   "metadata": {},
   "outputs": [
    {
     "data": {
      "text/plain": [
       "<AxesSubplot:title={'center':'Event is most popular in terms on number of players'}, xlabel='Event', ylabel='Athlete'>"
      ]
     },
     "execution_count": 13,
     "metadata": {},
     "output_type": "execute_result"
    },
    {
     "data": {
      "image/png": "[encoded data removed]",
      "text/plain": [
       "<Figure size 720x360 with 1 Axes>"
      ]
     },
     "metadata": {
      "needs_background": "light"
     },
     "output_type": "display_data"
    }
   ],
   "source": [
    "data=[]\n",
    "for event in df[\"Event\"].unique():\n",
    "    data.append([event,len(df[df[\"Event\"]==event])])\n",
    "\n",
    "data=pd.DataFrame(data , columns=[\"Event\",\"Athlete\"]).sort_values(by=\"Athlete\", ascending=False)\n",
    "data.head().plot(x=\"Event\" , y=\"Athlete\" ,xlabel=\"Event\",ylabel=\"Athlete\", title=\"Event is most popular in terms on number of players\", kind=\"bar\" , color=[\"orange\",\"green\",\"red\",\"blue\",\"pink\"],\n",
    "                figsize=(10,5))"
   ]
  },
  {
   "cell_type": "markdown",
   "metadata": {},
   "source": [
    "### 8. Which sport is having most female Gold Medalists? (Top 5)"
   ]
  },
  {
   "cell_type": "code",
   "execution_count": 14,
   "metadata": {},
   "outputs": [
    {
     "data": {
      "text/plain": [
       "<AxesSubplot:title={'center':'top five sport having most female gold medalists'}, xlabel='Athlete', ylabel='Gold Medal'>"
      ]
     },
     "execution_count": 14,
     "metadata": {},
     "output_type": "execute_result"
    },
    {
     "data": {
      "image/png": "[encoded data removed]",
      "text/plain": [
       "<Figure size 720x360 with 1 Axes>"
      ]
     },
     "metadata": {
      "needs_background": "light"
     },
     "output_type": "display_data"
    }
   ],
   "source": [
    "data=[]\n",
    "for  sport in new_df[\"Sport\"].unique():\n",
    "    data.append([ sport ,len(new_df[(new_df[\"Sport\"]==sport)&(new_df[\"Medal\"]==\"Gold\")&(new_df[\"Gender\"]==\"Women\")])])\n",
    "\n",
    "data=pd.DataFrame(data , columns=[\"Athlete\" , \"gold medal\"]).sort_values(by=\"gold medal\" , ascending=False)\n",
    "data.head().plot(x=\"Athlete\" , y=\"gold medal\" ,xlabel=\"Athlete\",ylabel=\"Gold Medal\", title=\"top five sport having most female gold medalists\", kind=\"bar\" , color=[\"orange\",\"green\",\"red\",\"blue\",\"pink\"],\n",
    "                figsize=(10,5))\n",
    "                 "
   ]
  }
 ],
 "metadata": {
  "kernelspec": {
   "display_name": "Python 3",
   "language": "python",
   "name": "python3"
  },
  "language_info": {
   "codemirror_mode": {
    "name": "ipython",
    "version": 3
   },
   "file_extension": ".py",
   "mimetype": "text/x-python",
   "name": "python",
   "nbconvert_exporter": "python",
   "pygments_lexer": "ipython3",
   "version": "3.8.8"
  }
 },
 "nbformat": 4,
 "nbformat_minor": 2
}
